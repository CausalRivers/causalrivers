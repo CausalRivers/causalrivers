{
 "cells": [
  {
   "cell_type": "markdown",
   "metadata": {},
   "source": [
    "# Coming soon...\n",
    "\n",
    "\n",
    "- Confounder\n",
    "- Artificial Canals\n",
    "- Pump Storage\n",
    "- Dams\n"
   ]
  }
 ],
 "metadata": {
  "language_info": {
   "name": "python"
  }
 },
 "nbformat": 4,
 "nbformat_minor": 2
}
