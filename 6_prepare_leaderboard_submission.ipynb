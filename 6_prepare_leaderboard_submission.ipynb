{
 "cells": [
  {
   "cell_type": "markdown",
   "id": "ce20daf2",
   "metadata": {},
   "source": [
    "## Example submission for the CausalRivers leaderboard\n",
    "\n",
    "Please follow the instructions below to generate a submission that holds your calculated performance",
    "We might update this process in the future to allow for the submission of raw predictions, but for now, you can submit your performance scores directly."
    "Note that you don't have to submit solutions for each available dataset."
   ]
  },
  {
   "cell_type": "code",
   "execution_count": 35,
   "id": "40fd01a6",
   "metadata": {},
   "outputs": [],
   "source": [
    "import pandas as pd"
   ]
  },
  {
   "cell_type": "markdown",
   "id": "6398a2a9",
   "metadata": {},
   "source": [
    "### First, use the benchmarking script to generate summary results on different datasets like this: \n",
    "\n",
    "e.g.:\n",
    "```bash\n",
    "python benchmark.py -m \"datasets/confounder_3/east.p\",\"datasets/confounder_5/east.p\",\"datasets/close_3/east.p\",\"datasets/close_5/east.p\"\n",
    "```\n"
   ]
  },
  {
   "cell_type": "code",
   "execution_count": 36,
   "id": "c2c520d9",
   "metadata": {},
   "outputs": [],
   "source": [
    "### Then load the raw predictions and format them accordingly: \n",
    "result_paths = [  \n",
    "\"results/var_close_3/2025-08-14 11:42:22.8140/scoring.csv\",\n",
    "\"results/var_confounder_3/2025-08-14 11:40:43.5664/scoring.csv\" ,\n",
    "\"results/var_close_5/2025-08-14 11:54:49.1264/scoring.csv\",\n",
    "\"results/var_confounder_5/2025-08-14 11:41:16.4501/scoring.csv\"\n",
    "]\n",
    "\n",
    "\n",
    "\n",
    "scorings = pd.concat([pd.read_csv(p, index_col=0).loc[[\"Individual AUROC\"]] for p in result_paths])\n",
    "scorings.index = [\"Confounder 3\", \"Close 3\", \"Close 5\", \"Confounder 5\"]\n",
    "scorings.columns = [\"Fantasy Method\"]\n",
    "scorings.T.to_csv(\"fantasy_submission.csv\")"
   ]
  }
 ],
 "metadata": {
  "kernelspec": {
   "display_name": "causalrivers",
   "language": "python",
   "name": "python3"
  },
  "language_info": {
   "codemirror_mode": {
    "name": "ipython",
    "version": 3
   },
   "file_extension": ".py",
   "mimetype": "text/x-python",
   "name": "python",
   "nbconvert_exporter": "python",
   "pygments_lexer": "ipython3",
   "version": "3.13.0"
  }
 },
 "nbformat": 4,
 "nbformat_minor": 5
}
